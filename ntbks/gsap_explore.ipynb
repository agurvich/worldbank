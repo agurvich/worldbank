{
 "cells": [
  {
   "cell_type": "code",
   "execution_count": 3,
   "id": "2357244c-a346-42ea-8806-a428dc25720b",
   "metadata": {
    "tags": []
   },
   "outputs": [],
   "source": [
    "import geopandas as gpd"
   ]
  },
  {
   "cell_type": "code",
   "execution_count": 4,
   "id": "4a9ac6da-cccd-424f-a3f0-4397a4a0297c",
   "metadata": {
    "tags": []
   },
   "outputs": [],
   "source": [
    "import numpy as np"
   ]
  },
  {
   "cell_type": "code",
   "execution_count": 5,
   "id": "6faace23-726b-4df7-a0d3-1dedd95488db",
   "metadata": {
    "tags": []
   },
   "outputs": [],
   "source": [
    "import pandas as pd"
   ]
  },
  {
   "cell_type": "code",
   "execution_count": null,
   "id": "cfb876bf-d04f-4670-939d-f737425c8e68",
   "metadata": {},
   "outputs": [],
   "source": [
    "import json"
   ]
  },
  {
   "cell_type": "code",
   "execution_count": 15,
   "id": "328a4409-a451-4d7d-b4e2-ce9f813311be",
   "metadata": {},
   "outputs": [],
   "source": [
    "dfs = [pd.read_csv(f'../data/GSAP_data/Data_{year}.csv') for year in [2010, 2019,2021]]\n",
    "all_df = pd.concat(dfs).set_index('geo_code')"
   ]
  },
  {
   "cell_type": "code",
   "execution_count": 22,
   "id": "50b6ced5-c3ed-4328-8215-b9787b05bda7",
   "metadata": {},
   "outputs": [],
   "source": [
    "# Group by geo_code and aggregate columns into lists\n",
    "result = all_df.groupby(all_df.index).agg(list)\n",
    "result['code'] = result.code.apply(lambda x: x[0])"
   ]
  },
  {
   "cell_type": "code",
   "execution_count": 50,
   "id": "9de6eaed-c359-4478-9cd0-acbde40f7b38",
   "metadata": {},
   "outputs": [],
   "source": [
    "nested_dict = result.reset_index().groupby('code').apply(\n",
    "    lambda x: x.set_index('geo_code')[output_keys].to_dict(orient='index'),\n",
    "    include_groups=False ## don't include the column w/ the group keys when applying to the group by\n",
    ").to_dict()\n",
    "\n",
    "with open('../app/public/data/gsap.json','w') as handle:\n",
    "    json.dump(nested_dict,handle)"
   ]
  },
  {
   "cell_type": "markdown",
   "id": "5723d31d-20c7-4c77-8052-4b091c8ebb08",
   "metadata": {},
   "source": [
    "## Output the geometry"
   ]
  },
  {
   "cell_type": "code",
   "execution_count": 5,
   "id": "f636c4c0-f8d6-4cc5-bb62-fb9a72171233",
   "metadata": {
    "tags": []
   },
   "outputs": [],
   "source": [
    "gsap_2021_gdf = gpd.read_file('../data/GSAP_geom/GSAP_AM24_2021.shp')"
   ]
  },
  {
   "cell_type": "code",
   "execution_count": 28,
   "id": "2d2383e5-3fc8-4345-999e-4234075012ca",
   "metadata": {},
   "outputs": [],
   "source": [
    "for group, data in gsap_2021_gdf.groupby('code'):\n",
    "    base = '../app/public/data/sub-national-geometry/'\n",
    "    data = data[['geo_code','geo_name','geometry']].copy()\n",
    "    data['geometry'] = data['geometry'].simplify(tolerance=0.001, preserve_topology=True)\n",
    "    data.to_file(os.path.join(base,f\"{group}_gsap_geometry.geojson\"),driver='GeoJSON')"
   ]
  }
 ],
 "metadata": {
  "kernelspec": {
   "display_name": "Python 3 (ipykernel)",
   "language": "python",
   "name": "python3"
  },
  "language_info": {
   "codemirror_mode": {
    "name": "ipython",
    "version": 3
   },
   "file_extension": ".py",
   "mimetype": "text/x-python",
   "name": "python",
   "nbconvert_exporter": "python",
   "pygments_lexer": "ipython3",
   "version": "3.10.12"
  }
 },
 "nbformat": 4,
 "nbformat_minor": 5
}
