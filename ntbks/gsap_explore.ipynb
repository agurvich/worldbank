{
 "cells": [
  {
   "cell_type": "code",
   "execution_count": 1,
   "id": "2357244c-a346-42ea-8806-a428dc25720b",
   "metadata": {
    "tags": []
   },
   "outputs": [],
   "source": [
    "import geopandas as gpd"
   ]
  },
  {
   "cell_type": "code",
   "execution_count": 2,
   "id": "4a9ac6da-cccd-424f-a3f0-4397a4a0297c",
   "metadata": {
    "tags": []
   },
   "outputs": [],
   "source": [
    "import numpy as np"
   ]
  },
  {
   "cell_type": "code",
   "execution_count": 3,
   "id": "6faace23-726b-4df7-a0d3-1dedd95488db",
   "metadata": {
    "tags": []
   },
   "outputs": [],
   "source": [
    "import pandas as pd"
   ]
  },
  {
   "cell_type": "code",
   "execution_count": 5,
   "id": "f636c4c0-f8d6-4cc5-bb62-fb9a72171233",
   "metadata": {
    "tags": []
   },
   "outputs": [],
   "source": [
    "gsap_2021_df = gpd.read_file('../data/GSAP_geom/GSAP_AM24_2021.shp')"
   ]
  },
  {
   "cell_type": "code",
   "execution_count": 6,
   "id": "f1a8db35-2521-488a-bc18-c0be9d83b5f5",
   "metadata": {
    "tags": []
   },
   "outputs": [
    {
     "data": {
      "text/plain": [
       "Index(['code', 'geo_year', 'geo_source', 'geo_level', 'geo_idvar', 'geo_id',\n",
       "       'geo_nvar', 'geo_name', 'geo_code', 'geometry'],\n",
       "      dtype='object')"
      ]
     },
     "execution_count": 6,
     "metadata": {},
     "output_type": "execute_result"
    }
   ],
   "source": [
    "gsap_2021_df.keys()"
   ]
  },
  {
   "cell_type": "code",
   "execution_count": 28,
   "id": "2d2383e5-3fc8-4345-999e-4234075012ca",
   "metadata": {},
   "outputs": [],
   "source": [
    "for group, data in gsap_2021_df.groupby('code'):\n",
    "    base = '../app/public/data/sub-national-geometry/'\n",
    "    data = data[['geo_code','geo_name','geometry']].copy()\n",
    "    data['geometry'] = data['geometry'].simplify(tolerance=0.001, preserve_topology=True)\n",
    "    data.to_file(os.path.join(base,f\"{group}_gsap_geometry.geojson\"),driver='GeoJSON')"
   ]
  },
  {
   "cell_type": "code",
   "execution_count": null,
   "id": "328a4409-a451-4d7d-b4e2-ce9f813311be",
   "metadata": {},
   "outputs": [],
   "source": []
  }
 ],
 "metadata": {
  "kernelspec": {
   "display_name": "Python 3 (ipykernel)",
   "language": "python",
   "name": "python3"
  },
  "language_info": {
   "codemirror_mode": {
    "name": "ipython",
    "version": 3
   },
   "file_extension": ".py",
   "mimetype": "text/x-python",
   "name": "python",
   "nbconvert_exporter": "python",
   "pygments_lexer": "ipython3",
   "version": "3.10.12"
  }
 },
 "nbformat": 4,
 "nbformat_minor": 5
}
